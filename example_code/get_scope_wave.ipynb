{
 "cells": [
  {
   "cell_type": "code",
   "execution_count": 7,
   "id": "8a9ccf83-3b70-4f23-81e2-4be2eabff7b1",
   "metadata": {},
   "outputs": [
    {
     "name": "stdout",
     "output_type": "stream",
     "text": [
      "get data True b'OWON,FDS4112S,2225048,V1.0.2'\n"
     ]
    },
    {
     "data": {
      "image/png": "[encoded data removed]",
      "text/plain": [
       "<Figure size 576x576 with 1 Axes>"
      ]
     },
     "metadata": {
      "needs_background": "light"
     },
     "output_type": "display_data"
    }
   ],
   "source": [
    "from socket import *\n",
    "import _thread\n",
    "import time\n",
    "import numpy as np\n",
    "import matplotlib.pyplot as plt\n",
    "%matplotlib inline\n",
    "\n",
    "g_serve_ip = '192.168.0.215'\n",
    "g_serve_port = 3000  \n",
    "g_tcp_socket = socket(AF_INET,SOCK_STREAM)\n",
    "\n",
    "g_recv_thread_loop = True\n",
    "g_recv_get_data = False\n",
    "g_recv_data_buf = ''\n",
    "\n",
    "def recv_thread():\n",
    "    global g_recv_get_data\n",
    "    global g_recv_data_buf\n",
    "    g_recv_get_data = False\n",
    "    while g_recv_thread_loop:\n",
    "        try:\n",
    "            g_recv_data_buf = g_tcp_socket.recv(10000) \n",
    "            g_recv_get_data = True\n",
    "        except:\n",
    "            print('close tcp socket.') \n",
    "        \n",
    "def scpi_query(delay_s, cmd_str):\n",
    "    global g_recv_get_data\n",
    "    global g_recv_data_buf\n",
    "    g_recv_get_data = False\n",
    "    count = 0\n",
    "    g_tcp_socket.send(cmd_str.encode(\"gbk\")) \n",
    "    while True:\n",
    "        if (g_recv_get_data):\n",
    "            return g_recv_get_data, g_recv_data_buf\n",
    "        else:\n",
    "            time.sleep(0.1)\n",
    "            count += 1\n",
    "            if (count % 20 == 0):\n",
    "                print(g_recv_get_data, count, delay_s)\n",
    "            if (count >= delay_s * 10):\n",
    "                print(\"Error: \", count, delay_s)\n",
    "                return g_recv_get_data, ''\n",
    "\n",
    "def set_up_tcp_client(): \n",
    "    global recv_thread\n",
    "    g_tcp_socket.connect((g_serve_ip, g_serve_port))  \n",
    "    try:\n",
    "        _thread.start_new_thread(recv_thread, ())\n",
    "    except:\n",
    "        print (\"Error: can not start thread\")\n",
    "\n",
    "def scpi_test_idn():\n",
    "    get_data, recv_data_buf = scpi_query(5, '*IDN?\\r\\n')\n",
    "    print('get data', get_data, recv_data_buf)\n",
    "\n",
    "def get_scope_data():\n",
    "    get_data, recv_data_buf = scpi_query(10, ':DATA:WAVE:SCREen:CH1?\\r\\n')\n",
    "    if (get_data):\n",
    "        rec_scope_data_buf = recv_data_buf[4:] #delete 4 lenght bytes\n",
    "        scope_data_buf_int16 = np.frombuffer(rec_scope_data_buf, np.int16)\n",
    "        return True, scope_data_buf_int16\n",
    "    else:\n",
    "        print(\"Error: can not get Scope data\")\n",
    "        return False, 'error'\n",
    "\n",
    "def scope_data_to_gen():\n",
    "    fig = plt.figure(figsize=(8, 8))\n",
    "    get_data, scope_data_buf_int16 = get_scope_data()\n",
    "\n",
    "    if (get_data):\n",
    "        data_range = np.arange(scope_data_buf_int16.size)\n",
    "        data_size = scope_data_buf_int16.size\n",
    "        plt.plot(data_range, scope_data_buf_int16)\n",
    "        plt.axis([0, data_size, -40000, 40000])\n",
    "        plt.show()\n",
    "\n",
    "def exit():\n",
    "    global g_recv_thread_loop\n",
    "    g_recv_thread_loop = False\n",
    "    g_tcp_socket.close()\n",
    "\n",
    "\n",
    "set_up_tcp_client()\n",
    "scpi_test_idn()\n",
    "scope_data_to_gen()\n",
    "exit()"
   ]
  },
  {
   "cell_type": "code",
   "execution_count": null,
   "id": "9eee6a81-5f2c-47e0-8ae6-94701bfe84c7",
   "metadata": {},
   "outputs": [],
   "source": []
  }
 ],
 "metadata": {
  "kernelspec": {
   "display_name": "Python 3 (ipykernel)",
   "language": "python",
   "name": "python3"
  },
  "language_info": {
   "codemirror_mode": {
    "name": "ipython",
    "version": 3
   },
   "file_extension": ".py",
   "mimetype": "text/x-python",
   "name": "python",
   "nbconvert_exporter": "python",
   "pygments_lexer": "ipython3",
   "version": "3.8.3"
  }
 },
 "nbformat": 4,
 "nbformat_minor": 5
}
